{
  "nbformat": 4,
  "nbformat_minor": 0,
  "metadata": {
    "colab": {
      "name": "1주차과제.ipynb",
      "provenance": [],
      "authorship_tag": "ABX9TyPYPuL4tRTF9qJHGngwb+fX",
      "include_colab_link": true
    },
    "kernelspec": {
      "name": "python3",
      "display_name": "Python 3"
    }
  },
  "cells": [
    {
      "cell_type": "markdown",
      "metadata": {
        "id": "view-in-github",
        "colab_type": "text"
      },
      "source": [
        "<a href=\"https://colab.research.google.com/github/aptx4850/aptx4850.github.io/blob/master/1%EC%A3%BC%EC%B0%A8%EA%B3%BC%EC%A0%9C.ipynb\" target=\"_parent\"><img src=\"https://colab.research.google.com/assets/colab-badge.svg\" alt=\"Open In Colab\"/></a>"
      ]
    },
    {
      "cell_type": "markdown",
      "metadata": {
        "id": "4JwJzYAtc6Nr",
        "colab_type": "text"
      },
      "source": [
        "# 언어 인공지능 서비스 : 구글 어시스턴트\n",
        "\n",
        "**구글 어시스턴트**\n",
        "\n",
        "*구글어스턴트*\n",
        "\n",
        "\n",
        "\n",
        "*   구글 어시스턴트에 대하여\n",
        "\n",
        "*   구글 어시스턴트가 적용된 플랫폼\n",
        "\n",
        "*   구글 어시스턴트의 다양한 활용성\n",
        "\n",
        "*   구글 어시스턴트의 앞으로의 발전 가능성\n",
        "\n",
        "[구글 어시스턴트에 대하여](https://assistant.google.com/)\n",
        "\n",
        "[구글 어시스턴트가 적용된 플랫폼](https://m.post.naver.com/viewer/postView.nhn?volumeNo=18074482&memberNo=3185448&vType=VERTICAL)\n",
        "\n",
        "[구글 어시스턴트의 다양한 활용성](https://assistant.google.com/intl/ko_kr/platforms/phones/)\n",
        "\n",
        "[구글 어시스턴트의 앞으로의 발전 가능성](https://m.post.naver.com/viewer/postView.nhn?volumeNo=5170073&memberNo=28156090&vType=VERTICAL)"
      ]
    },
    {
      "cell_type": "markdown",
      "metadata": {
        "id": "e3JWtZRlgHbC",
        "colab_type": "text"
      },
      "source": [
        "# 음성 인공지능 서비스 : 삼성 빅스비\n",
        "\n",
        "**삼성 빅스비**\n",
        "\n",
        "*삼성 빅스비*\n",
        "\n",
        "\n",
        "\n",
        "1.   빅스비에 대하여\n",
        "1.   빅스비가 적용된 플랫폼\n",
        "2.   빅스비의 다양한 활용성\n",
        "\n",
        "\n",
        "[빅스비에 대하여](https://bixby.developer.samsung.com/?utm_source=naver&utm_medium=bs_pc&utm_campaign=2020_april&utm_term={keyword})\n",
        "\n",
        "[빅스비가 적용된 플랫폼](https://news.naver.com/main/read.nhn?mode=LSD&mid=sec&sid1=105&oid=014&aid=0004130260)\n",
        "\n",
        "[빅스비의 다양한 활용성](https://blog.naver.com/o0721o/221762995463)"
      ]
    },
    {
      "cell_type": "markdown",
      "metadata": {
        "id": "2AGUoX7WhqFk",
        "colab_type": "text"
      },
      "source": [
        "# 이미지 인공지능 서비스 : LG ThinQ\n",
        "\n",
        "**LG ThinQ**\n",
        "\n",
        "*LG ThinQ*\n",
        "\n",
        "\n",
        "\n",
        "1.   LG ThinQ에 대하여\n",
        "1.   LG ThinQ가 적용된 플랫폼\n",
        "2.   LG ThinQ의 전망\n",
        "\n",
        "\n",
        "[LG ThinQ에 대하여](https://social.lge.co.kr/newsroom/lg_thinq_1220/)\n",
        "\n",
        "[LG ThinQ가 적용된 플랫폼](http://blog.naver.com/clubkang/221173706070)\n",
        "\n",
        "[LG ThinQ의 전망](https://news.naver.com/main/read.nhn?mode=LSD&mid=sec&sid1=105&oid=018&aid=0004549423)\n",
        "\n",
        "\n",
        "![LG 올레드 TV 이미지](https://file.mk.co.kr/meet/neds/2020/05/image_readtop_2020_503985_15897420634202403.jpg)"
      ]
    },
    {
      "cell_type": "markdown",
      "metadata": {
        "id": "RGSdWwhrjhaq",
        "colab_type": "text"
      },
      "source": [
        "# 자율주행 제품 : 테슬라 모델3\n",
        "\n",
        "**자율주행 제품 : 테슬라 모델3**\n",
        "\n",
        "*자율주행 제품 : 테슬라 모델3*\n",
        "\n",
        "\n",
        "\n",
        "*   자율주행에 대하여\n",
        "\n",
        "*   자율주행의 적용된 플랫폼\n",
        "\n",
        "\n",
        "*   자율주행의 앞으로의 발전 가능성\n",
        "\n",
        "[자율주행에 대하여](https://namu.wiki/w/%EC%9E%90%EC%9C%A8%EC%A3%BC%ED%96%89)\n",
        "\n",
        "[자율주행의 적용된 플랫폼](https://www.tesla.com/ko_kr/model3)\n",
        "\n",
        "[자율주행의 앞으로의 발전 가능성](https://www.posri.re.kr/files/file_pdf/63/14211/63_14211_file_pdf_1471334638.pdf)"
      ]
    }
  ]
}